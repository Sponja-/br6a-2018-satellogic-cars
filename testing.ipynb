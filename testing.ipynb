{
 "cells": [
  {
   "cell_type": "code",
   "execution_count": 1,
   "metadata": {},
   "outputs": [
    {
     "name": "stderr",
     "output_type": "stream",
     "text": [
      "Using TensorFlow backend.\n"
     ]
    }
   ],
   "source": [
    "from train import *"
   ]
  },
  {
   "cell_type": "code",
   "execution_count": 2,
   "metadata": {},
   "outputs": [],
   "source": [
    "testing_generator.indeces = np.arange(len(testing_generator.path_names))"
   ]
  },
  {
   "cell_type": "code",
   "execution_count": 3,
   "metadata": {},
   "outputs": [
    {
     "name": "stdout",
     "output_type": "stream",
     "text": [
      "WARNING:tensorflow:Variable *= will be deprecated. Use `var.assign(var * other)` if you want assignment to the variable value or `x = x * y` if you want a new python Tensor object.\n"
     ]
    }
   ],
   "source": [
    "from keras.models import load_model\n",
    "model = load_model(\"model\")"
   ]
  },
  {
   "cell_type": "code",
   "execution_count": 12,
   "metadata": {},
   "outputs": [
    {
     "data": {
      "text/plain": [
       "array([[2.8840921e-04, 9.9971157e-01],\n",
       "       [6.9079781e-03, 9.9309206e-01],\n",
       "       [3.5197693e-03, 9.9648029e-01],\n",
       "       [2.6360394e-03, 9.9736398e-01],\n",
       "       [2.7664384e-04, 9.9972337e-01],\n",
       "       [1.7097904e-04, 9.9982893e-01],\n",
       "       [1.4903717e-04, 9.9985099e-01],\n",
       "       [4.3659465e-04, 9.9956340e-01],\n",
       "       [7.0250835e-06, 9.9999297e-01],\n",
       "       [3.5351487e-03, 9.9646485e-01],\n",
       "       [2.3800577e-03, 9.9761993e-01],\n",
       "       [5.9260631e-01, 4.0739372e-01],\n",
       "       [1.8644581e-02, 9.8135537e-01],\n",
       "       [5.5478383e-03, 9.9445218e-01],\n",
       "       [2.7827121e-04, 9.9972171e-01],\n",
       "       [4.0469595e-04, 9.9959534e-01],\n",
       "       [7.2844610e-05, 9.9992716e-01],\n",
       "       [1.3802259e-03, 9.9861979e-01],\n",
       "       [2.7405225e-02, 9.7259480e-01],\n",
       "       [1.2940395e-04, 9.9987054e-01],\n",
       "       [6.6592568e-04, 9.9933404e-01],\n",
       "       [4.5626624e-03, 9.9543732e-01],\n",
       "       [3.6217335e-03, 9.9637824e-01],\n",
       "       [2.7591779e-03, 9.9724078e-01],\n",
       "       [1.5450768e-04, 9.9984550e-01],\n",
       "       [4.3766382e-03, 9.9562341e-01],\n",
       "       [1.2664722e-03, 9.9873358e-01],\n",
       "       [3.1342441e-03, 9.9686569e-01],\n",
       "       [7.4308589e-03, 9.9256915e-01],\n",
       "       [1.1532683e-04, 9.9988461e-01],\n",
       "       [9.4445935e-04, 9.9905556e-01],\n",
       "       [3.7914934e-04, 9.9962080e-01]], dtype=float32)"
      ]
     },
     "execution_count": 12,
     "metadata": {},
     "output_type": "execute_result"
    }
   ],
   "source": [
    "pred = model.predict(testing_generator[6][0])\n",
    "pred"
   ]
  },
  {
   "cell_type": "code",
   "execution_count": 11,
   "metadata": {},
   "outputs": [
    {
     "data": {
      "text/plain": [
       "[array([0, 1]),\n",
       " array([0, 1]),\n",
       " array([0, 1]),\n",
       " array([0, 1]),\n",
       " array([0, 1]),\n",
       " array([0, 1]),\n",
       " array([0, 1]),\n",
       " array([0, 1]),\n",
       " array([0, 1]),\n",
       " array([0, 1]),\n",
       " array([0, 1]),\n",
       " array([1, 0]),\n",
       " array([0, 1]),\n",
       " array([0, 1]),\n",
       " array([0, 1]),\n",
       " array([0, 1]),\n",
       " array([0, 1]),\n",
       " array([0, 1]),\n",
       " array([0, 1]),\n",
       " array([0, 1]),\n",
       " array([0, 1]),\n",
       " array([0, 1]),\n",
       " array([0, 1]),\n",
       " array([0, 1]),\n",
       " array([0, 1]),\n",
       " array([0, 1]),\n",
       " array([0, 1]),\n",
       " array([0, 1]),\n",
       " array([0, 1]),\n",
       " array([0, 1]),\n",
       " array([0, 1]),\n",
       " array([0, 1])]"
      ]
     },
     "execution_count": 11,
     "metadata": {},
     "output_type": "execute_result"
    }
   ],
   "source": [
    "list(testing_generator[6][1])"
   ]
  }
 ],
 "metadata": {
  "kernelspec": {
   "display_name": "Python 3",
   "language": "python",
   "name": "python3"
  },
  "language_info": {
   "codemirror_mode": {
    "name": "ipython",
    "version": 3
   },
   "file_extension": ".py",
   "mimetype": "text/x-python",
   "name": "python",
   "nbconvert_exporter": "python",
   "pygments_lexer": "ipython3",
   "version": "3.6.4"
  }
 },
 "nbformat": 4,
 "nbformat_minor": 2
}
